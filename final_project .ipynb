{
 "cells": [
  {
   "cell_type": "code",
   "execution_count": 53,
   "id": "f2d729c7",
   "metadata": {},
   "outputs": [],
   "source": [
    "import cv2\n",
    "import matplotlib.pyplot as plt\n",
    "import pytesseract\n",
    "import numpy as np\n",
    "import pandas as pd"
   ]
  },
  {
   "cell_type": "code",
   "execution_count": 154,
   "id": "c8ebd37d",
   "metadata": {},
   "outputs": [
    {
     "name": "stdout",
     "output_type": "stream",
     "text": [
      "Enter the path of the image : dd.jpg\n"
     ]
    }
   ],
   "source": [
    "image_path = input(\"Enter the path of the image : \")\n",
    "img2=cv2.imread(image_path)\n",
    "img2_gray=cv2.cvtColor(img2,cv2.COLOR_BGR2GRAY)\n"
   ]
  },
  {
   "cell_type": "code",
   "execution_count": 155,
   "id": "b6d54ba4",
   "metadata": {},
   "outputs": [],
   "source": [
    "img2_adb=cv2.adaptiveThreshold(img2_gray,255,cv2.ADAPTIVE_THRESH_GAUSSIAN_C,cv2.THRESH_BINARY,141,53)\n",
    "img2_adb=cv2.resize(img2_adb,(1000,1000))\n",
    "cv2.imshow('front',img2_adb)\n",
    "cv2.waitKey(0)\n",
    "cv2.destroyAllWindows()"
   ]
  },
  {
   "cell_type": "code",
   "execution_count": 156,
   "id": "46f4ee71",
   "metadata": {
    "scrolled": true
   },
   "outputs": [
    {
     "name": "stdout",
     "output_type": "stream",
     "text": [
      "عمر\n",
      "اشرف محمد النيوى عبد حدن عمر\n",
      "س عمد لمحسن التسباحى امام مسجد: غير\n",
      "\n",
      "مركز لويس - السريية\n",
      "\n",
      "ولا \"احص ا الم 0\" 0\n",
      "7 اا\n",
      "\n"
     ]
    }
   ],
   "source": [
    "#config=\"--psm 3\"\n",
    "word=pytesseract.image_to_string(img2_adb,lang='ara')\n",
    "print(word)"
   ]
  },
  {
   "cell_type": "code",
   "execution_count": 157,
   "id": "afa565b1",
   "metadata": {},
   "outputs": [
    {
     "data": {
      "text/plain": [
       "['عمر',\n",
       " 'اشرف محمد النيوى عبد حدن عمر',\n",
       " 'س عمد لمحسن التسباحى امام مسجد: غير',\n",
       " '',\n",
       " 'مركز لويس - السريية',\n",
       " '',\n",
       " 'ولا \"احص ا الم 0\" 0',\n",
       " '7 اا',\n",
       " '']"
      ]
     },
     "execution_count": 157,
     "metadata": {},
     "output_type": "execute_result"
    }
   ],
   "source": [
    "data=word.split('\\n')\n",
    "data"
   ]
  },
  {
   "cell_type": "code",
   "execution_count": 159,
   "id": "9da86505",
   "metadata": {},
   "outputs": [],
   "source": [
    "first_name=data[0]\n",
    "name=data[1]\n",
    "address=data[2]"
   ]
  },
  {
   "cell_type": "code",
   "execution_count": 160,
   "id": "09e24934",
   "metadata": {},
   "outputs": [],
   "source": [
    "df=pd.DataFrame({'first_name':first_name,\n",
    "                 'second_name':name,\n",
    "                 'address':address},index=[0])"
   ]
  },
  {
   "cell_type": "code",
   "execution_count": 161,
   "id": "cb2067ab",
   "metadata": {},
   "outputs": [
    {
     "data": {
      "text/html": [
       "<div>\n",
       "<style scoped>\n",
       "    .dataframe tbody tr th:only-of-type {\n",
       "        vertical-align: middle;\n",
       "    }\n",
       "\n",
       "    .dataframe tbody tr th {\n",
       "        vertical-align: top;\n",
       "    }\n",
       "\n",
       "    .dataframe thead th {\n",
       "        text-align: right;\n",
       "    }\n",
       "</style>\n",
       "<table border=\"1\" class=\"dataframe\">\n",
       "  <thead>\n",
       "    <tr style=\"text-align: right;\">\n",
       "      <th></th>\n",
       "      <th>first_name</th>\n",
       "      <th>second_name</th>\n",
       "      <th>address</th>\n",
       "    </tr>\n",
       "  </thead>\n",
       "  <tbody>\n",
       "    <tr>\n",
       "      <th>0</th>\n",
       "      <td>عمر</td>\n",
       "      <td>اشرف محمد النيوى عبد حدن عمر</td>\n",
       "      <td>س عمد لمحسن التسباحى امام مسجد: غير</td>\n",
       "    </tr>\n",
       "  </tbody>\n",
       "</table>\n",
       "</div>"
      ],
      "text/plain": [
       "  first_name                   second_name  \\\n",
       "0        عمر  اشرف محمد النيوى عبد حدن عمر   \n",
       "\n",
       "                               address  \n",
       "0  س عمد لمحسن التسباحى امام مسجد: غير  "
      ]
     },
     "execution_count": 161,
     "metadata": {},
     "output_type": "execute_result"
    }
   ],
   "source": [
    "df"
   ]
  }
 ],
 "metadata": {
  "kernelspec": {
   "display_name": "Python 3 (ipykernel)",
   "language": "python",
   "name": "python3"
  },
  "language_info": {
   "codemirror_mode": {
    "name": "ipython",
    "version": 3
   },
   "file_extension": ".py",
   "mimetype": "text/x-python",
   "name": "python",
   "nbconvert_exporter": "python",
   "pygments_lexer": "ipython3",
   "version": "3.9.13"
  }
 },
 "nbformat": 4,
 "nbformat_minor": 5
}
